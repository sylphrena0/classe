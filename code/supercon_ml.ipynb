{
 "cells": [
  {
   "cell_type": "markdown",
   "metadata": {},
   "source": [
    "# **Superconductivity Regression Notebook**\n",
    "Trains models to predict critical temperatures based on features found with \"*../code/get_featurizers.ipynb*\". Imports data from \"*../data/supercon_feat.csv*\", which is produced in *get_featurizers.ipynb*. The orginal data is from the supercon database. \n",
    "\n",
    "*Author: Kirk Kleinsasser*"
   ]
  },
  {
   "cell_type": "code",
   "execution_count": 1,
   "metadata": {},
   "outputs": [
    {
     "data": {
      "application/javascript": "IPython.notebook.set_autosave_interval(300000)"
     },
     "metadata": {},
     "output_type": "display_data"
    },
    {
     "name": "stdout",
     "output_type": "stream",
     "text": [
      "Autosaving every 300 seconds\n"
     ]
    }
   ],
   "source": [
    "import dill\n",
    "#dill.load_session('../data/latest-run.db') #this can load a saved python session so I don't need to rerun computationally expensive cells\n",
    "%autosave 300 \n",
    "#autosaves code every five minutes"
   ]
  },
  {
   "cell_type": "markdown",
   "metadata": {},
   "source": [
    "## Import Libraries / Define Import Data Function"
   ]
  },
  {
   "cell_type": "code",
   "execution_count": 2,
   "metadata": {},
   "outputs": [
    {
     "name": "stderr",
     "output_type": "stream",
     "text": [
      "[MLENS] backend: threading\n"
     ]
    }
   ],
   "source": [
    "#general imports:\n",
    "import warnings #to suppress grid search warnings\n",
    "import numpy as np \n",
    "import pandas as pd\n",
    "import matplotlib.pyplot as plt\n",
    "import seaborn as sns #heatmaps\n",
    "\n",
    "#regression models:\n",
    "from mlens.ensemble import SuperLearner\n",
    "from sklearn.neighbors import KNeighborsRegressor\n",
    "from sklearn.tree import DecisionTreeRegressor\n",
    "from sklearn.ensemble import AdaBoostRegressor, BaggingRegressor, ExtraTreesRegressor, RandomForestRegressor\n",
    "from sklearn.linear_model import LinearRegression, LogisticRegression, Ridge, Lasso, ElasticNet\n",
    "from sklearn.svm import SVR\n",
    "from xgboost import XGBRegressor\n",
    "\n",
    "#various ML tools:\n",
    "from sklearn.pipeline import make_pipeline, Pipeline\n",
    "from sklearn.preprocessing import LabelEncoder, OneHotEncoder, StandardScaler\n",
    "from sklearn.model_selection import train_test_split, GridSearchCV, KFold, cross_val_predict, cross_val_score\n",
    "from sklearn.metrics import accuracy_score, recall_score, r2_score, mean_absolute_error, mean_squared_error\n",
    "from skopt import BayesSearchCV #bayesian optimization\n",
    "\n",
    "#imports the data from get_featurizers. Function because some models we may want infinity:\n",
    "def import_data(replace_inf=False):\n",
    "    global data, target, train_data, test_data, train_target, test_target #variables that we want to define globally (outside of this funtion)\n",
    "    data = pd.DataFrame(pd.read_csv('../data/supercon_feat.csv')) #loads data produced in get_featurizer.ipynb\n",
    "    target = data.pop('Tc') #remove target (critical temp) from data\n",
    "\n",
    "    #TODO: add feature for infinite values or otherwise handle for models that cannot handle infinite data\n",
    "    if replace_inf: #replaces values of infinity with NaN if replace_inf is True\n",
    "        data.replace([np.inf, -np.inf], np.nan, inplace=True) \n",
    "\n",
    "    #TODO: debug feaurizers - NaN is entered when there is an error in the featurizer\n",
    "    data.drop(['name','Unnamed: 0', 'composition'], axis=1, inplace=True) #drop columns irrelevant to training\n",
    "    data = data[data.columns[data.notnull().any()]] #drop columns that are entirely NaN (12 columns) \n",
    "\n",
    "    for col in data: #replaces NaN with zeros\n",
    "        data[col] = pd.to_numeric(data[col], errors ='coerce').fillna(0).astype('float')\n",
    "\n",
    "    #creates a test train split, with shuffle and random state for reproducibility \n",
    "    train_data, test_data, train_target, test_target = train_test_split(data, target, test_size=0.15, random_state=43, shuffle=True)\n"
   ]
  },
  {
   "cell_type": "markdown",
   "metadata": {},
   "source": [
    "## Data Analysis"
   ]
  },
  {
   "cell_type": "code",
   "execution_count": null,
   "metadata": {},
   "outputs": [],
   "source": [
    "def make_correlation_heatmap(): #makes a heatmap that shows correlations between features and targets, saves to '../data/feature_heatmap.png'\n",
    "    import_data() #import data with function above\n",
    "\n",
    "    matrix_data = pd.DataFrame(data) #make a new dataframe for the correlation matrix\n",
    "    matrix_data['target'] = target.values #add target back in\n",
    "\n",
    "    corr_matrix = matrix_data.corr() #gets 2D correlation matrix\n",
    "    fig, ax = plt.subplots(figsize=(36, 36), dpi = 480) #define figure and sizing features\n",
    "    ax = sns.heatmap(corr_matrix, annot=True, fmt=\".2f\", cmap=\"YlGnBu\")\n",
    "    bottom, top = ax.get_ylim()\n",
    "    ax.set_ylim(bottom + 0.5, top - 0.5)\n",
    "    ax.tick_params(colors='grey', which='both') #set various colors\n",
    "\n",
    "    #save heatmap\n",
    "    figure = ax.get_figure()    \n",
    "    figure.savefig('../data/feature_heatmap.png', dpi=480) #saves to '../data/feature_heatmap.png' at 480 dpi\n",
    "\n",
    "make_correlation_heatmap() #calls function"
   ]
  },
  {
   "cell_type": "markdown",
   "metadata": {},
   "source": [
    "## Linear Regression"
   ]
  },
  {
   "cell_type": "code",
   "execution_count": 3,
   "metadata": {},
   "outputs": [
    {
     "name": "stdout",
     "output_type": "stream",
     "text": [
      "MSE: 442.16314939573556\n",
      "R2 : 0.3918631341771974\n"
     ]
    }
   ],
   "source": [
    "import_data(replace_inf=True) #reimport data without infinities\n",
    "\n",
    "linear = LinearRegression()\n",
    "linear.fit(train_data, train_target)\n",
    "linear_pred = linear.predict(test_data)\n",
    "\n",
    "mse = mean_squared_error(test_target, linear_pred)\n",
    "r_squared = r2_score(test_target, linear_pred)\n",
    "\n",
    "print(\"MSE:\", mse)\n",
    "print(\"R2 :\", r_squared)"
   ]
  },
  {
   "cell_type": "markdown",
   "metadata": {},
   "source": [
    "## Support Vector Regression"
   ]
  },
  {
   "cell_type": "code",
   "execution_count": 9,
   "metadata": {},
   "outputs": [
    {
     "name": "stdout",
     "output_type": "stream",
     "text": [
      "Fitting 5 folds for each of 1 candidates, totalling 5 fits\n",
      "[CV] END C=10, degree=7, epsilon=0.01, gamma=0.1, kernel=sigmoid; total time=  19.3s\n",
      "[CV] END C=10, degree=7, epsilon=0.01, gamma=0.1, kernel=sigmoid; total time=  19.4s\n",
      "[CV] END C=10, degree=7, epsilon=0.01, gamma=0.1, kernel=sigmoid; total time=  19.4s\n",
      "[CV] END C=10, degree=7, epsilon=0.01, gamma=0.1, kernel=sigmoid; total time=  19.5s\n",
      "[CV] END C=10, degree=7, epsilon=0.01, gamma=0.1, kernel=sigmoid; total time=  19.5s\n",
      "Fitting 5 folds for each of 1 candidates, totalling 5 fits\n",
      "[CV] END C=1000, degree=5, epsilon=1.0, gamma=0.01, kernel=sigmoid; total time=  19.6s\n",
      "[CV] END C=1000, degree=5, epsilon=1.0, gamma=0.01, kernel=sigmoid; total time=  19.7s\n",
      "[CV] END C=1000, degree=5, epsilon=1.0, gamma=0.01, kernel=sigmoid; total time=  19.7s\n",
      "[CV] END C=1000, degree=5, epsilon=1.0, gamma=0.01, kernel=sigmoid; total time=  19.7s\n",
      "[CV] END C=1000, degree=5, epsilon=1.0, gamma=0.01, kernel=sigmoid; total time=  20.2s\n",
      "Fitting 5 folds for each of 1 candidates, totalling 5 fits\n",
      "[CV] END .C=1, degree=3, epsilon=10.0, gamma=1.0, kernel=rbf; total time=  11.1s\n",
      "[CV] END .C=1, degree=3, epsilon=10.0, gamma=1.0, kernel=rbf; total time=  11.9s\n",
      "[CV] END .C=1, degree=3, epsilon=10.0, gamma=1.0, kernel=rbf; total time=  12.1s\n",
      "[CV] END .C=1, degree=3, epsilon=10.0, gamma=1.0, kernel=rbf; total time=  12.1s\n",
      "[CV] END .C=1, degree=3, epsilon=10.0, gamma=1.0, kernel=rbf; total time=  11.9s\n",
      "Fitting 5 folds for each of 1 candidates, totalling 5 fits\n",
      "[CV] END C=100, degree=5, epsilon=0.1, gamma=1.0, kernel=sigmoid; total time=  20.5s\n",
      "[CV] END C=100, degree=5, epsilon=0.1, gamma=1.0, kernel=sigmoid; total time=  20.6s\n",
      "[CV] END C=100, degree=5, epsilon=0.1, gamma=1.0, kernel=sigmoid; total time=  21.0s\n",
      "[CV] END C=100, degree=5, epsilon=0.1, gamma=1.0, kernel=sigmoid; total time=  21.1s\n",
      "[CV] END C=100, degree=5, epsilon=0.1, gamma=1.0, kernel=sigmoid; total time=  21.1s\n",
      "Fitting 5 folds for each of 1 candidates, totalling 5 fits\n",
      "[CV] END C=1, degree=5, epsilon=0.01, gamma=0.01, kernel=rbf; total time=  25.6s\n",
      "[CV] END C=1, degree=5, epsilon=0.01, gamma=0.01, kernel=rbf; total time=  25.7s\n",
      "[CV] END C=1, degree=5, epsilon=0.01, gamma=0.01, kernel=rbf; total time=  25.7s\n",
      "[CV] END C=1, degree=5, epsilon=0.01, gamma=0.01, kernel=rbf; total time=  25.7s\n",
      "[CV] END C=1, degree=5, epsilon=0.01, gamma=0.01, kernel=rbf; total time=  25.9s\n",
      "Fitting 5 folds for each of 1 candidates, totalling 5 fits\n",
      "[CV] END C=100, degree=1, epsilon=0.1, gamma=0.1, kernel=rbf; total time= 1.8min\n",
      "[CV] END C=100, degree=1, epsilon=0.1, gamma=0.1, kernel=rbf; total time= 1.8min\n",
      "[CV] END C=100, degree=1, epsilon=0.1, gamma=0.1, kernel=rbf; total time= 1.9min\n",
      "[CV] END C=100, degree=1, epsilon=0.1, gamma=0.1, kernel=rbf; total time= 1.9min\n",
      "[CV] END C=100, degree=1, epsilon=0.1, gamma=0.1, kernel=rbf; total time= 2.0min\n",
      "Fitting 5 folds for each of 1 candidates, totalling 5 fits\n",
      "[CV] END C=10, degree=1, epsilon=0.001, gamma=1.0, kernel=poly; total time=52.4min\n",
      "[CV] END C=10, degree=1, epsilon=0.001, gamma=1.0, kernel=poly; total time=55.8min\n",
      "[CV] END C=10, degree=1, epsilon=0.001, gamma=1.0, kernel=poly; total time=58.8min\n",
      "[CV] END C=10, degree=1, epsilon=0.001, gamma=1.0, kernel=poly; total time=59.5min\n",
      "[CV] END C=10, degree=1, epsilon=0.001, gamma=1.0, kernel=poly; total time=73.1min\n",
      "Fitting 5 folds for each of 1 candidates, totalling 5 fits\n",
      "[CV] END C=100, degree=7, epsilon=1.0, gamma=0.1, kernel=rbf; total time= 1.1min\n",
      "[CV] END C=100, degree=7, epsilon=1.0, gamma=0.1, kernel=rbf; total time= 1.1min\n",
      "[CV] END C=100, degree=7, epsilon=1.0, gamma=0.1, kernel=rbf; total time= 1.1min\n",
      "[CV] END C=100, degree=7, epsilon=1.0, gamma=0.1, kernel=rbf; total time= 1.2min\n",
      "[CV] END C=100, degree=7, epsilon=1.0, gamma=0.1, kernel=rbf; total time= 1.2min\n",
      "Fitting 5 folds for each of 1 candidates, totalling 5 fits\n",
      "[CV] END C=1000, degree=7, epsilon=0.01, gamma=0.001, kernel=rbf; total time= 3.0min\n",
      "[CV] END C=1000, degree=7, epsilon=0.01, gamma=0.001, kernel=rbf; total time= 3.1min\n",
      "[CV] END C=1000, degree=7, epsilon=0.01, gamma=0.001, kernel=rbf; total time= 3.1min\n",
      "[CV] END C=1000, degree=7, epsilon=0.01, gamma=0.001, kernel=rbf; total time= 3.2min\n",
      "[CV] END C=1000, degree=7, epsilon=0.01, gamma=0.001, kernel=rbf; total time= 3.2min\n",
      "Fitting 5 folds for each of 1 candidates, totalling 5 fits\n",
      "[CV] END C=1, degree=9, epsilon=100.0, gamma=0.1, kernel=sigmoid; total time=   0.0s\n",
      "[CV] END C=1, degree=9, epsilon=100.0, gamma=0.1, kernel=sigmoid; total time=   0.0s\n",
      "[CV] END C=1, degree=9, epsilon=100.0, gamma=0.1, kernel=sigmoid; total time=   0.0s\n",
      "[CV] END C=1, degree=9, epsilon=100.0, gamma=0.1, kernel=sigmoid; total time=   0.0s\n",
      "[CV] END C=1, degree=9, epsilon=100.0, gamma=0.1, kernel=sigmoid; total time=   0.0s\n",
      "Fitting 5 folds for each of 1 candidates, totalling 5 fits\n",
      "[CV] END C=100, degree=7, epsilon=0.1, gamma=0.1, kernel=rbf; total time= 1.3min\n",
      "[CV] END C=100, degree=7, epsilon=0.1, gamma=0.1, kernel=rbf; total time= 1.4min\n",
      "[CV] END C=100, degree=7, epsilon=0.1, gamma=0.1, kernel=rbf; total time= 1.4min\n",
      "[CV] END C=100, degree=7, epsilon=0.1, gamma=0.1, kernel=rbf; total time= 1.4min\n",
      "[CV] END C=100, degree=7, epsilon=0.1, gamma=0.1, kernel=rbf; total time= 1.5min\n"
     ]
    },
    {
     "name": "stderr",
     "output_type": "stream",
     "text": [
      "/home/sylphrena/anaconda3/envs/CLASSE/lib/python3.9/site-packages/skopt/optimizer/optimizer.py:449: UserWarning: The objective has been evaluated at this point before.\n",
      "  warnings.warn(\"The objective has been evaluated \"\n"
     ]
    },
    {
     "name": "stdout",
     "output_type": "stream",
     "text": [
      "Fitting 5 folds for each of 1 candidates, totalling 5 fits\n",
      "[CV] END C=100, degree=7, epsilon=0.1, gamma=0.1, kernel=rbf; total time= 1.3min\n",
      "[CV] END C=100, degree=7, epsilon=0.1, gamma=0.1, kernel=rbf; total time= 1.4min\n",
      "[CV] END C=100, degree=7, epsilon=0.1, gamma=0.1, kernel=rbf; total time= 1.4min\n",
      "[CV] END C=100, degree=7, epsilon=0.1, gamma=0.1, kernel=rbf; total time= 1.4min\n",
      "[CV] END C=100, degree=7, epsilon=0.1, gamma=0.1, kernel=rbf; total time= 1.5min\n"
     ]
    },
    {
     "name": "stderr",
     "output_type": "stream",
     "text": [
      "/home/sylphrena/anaconda3/envs/CLASSE/lib/python3.9/site-packages/skopt/optimizer/optimizer.py:449: UserWarning: The objective has been evaluated at this point before.\n",
      "  warnings.warn(\"The objective has been evaluated \"\n"
     ]
    },
    {
     "name": "stdout",
     "output_type": "stream",
     "text": [
      "Fitting 5 folds for each of 1 candidates, totalling 5 fits\n",
      "[CV] END C=100, degree=7, epsilon=0.1, gamma=0.1, kernel=rbf; total time= 1.3min\n",
      "[CV] END C=100, degree=7, epsilon=0.1, gamma=0.1, kernel=rbf; total time= 1.3min\n",
      "[CV] END C=100, degree=7, epsilon=0.1, gamma=0.1, kernel=rbf; total time= 1.4min\n",
      "[CV] END C=100, degree=7, epsilon=0.1, gamma=0.1, kernel=rbf; total time= 1.4min\n",
      "[CV] END C=100, degree=7, epsilon=0.1, gamma=0.1, kernel=rbf; total time= 1.4min\n"
     ]
    },
    {
     "name": "stderr",
     "output_type": "stream",
     "text": [
      "/home/sylphrena/anaconda3/envs/CLASSE/lib/python3.9/site-packages/skopt/optimizer/optimizer.py:449: UserWarning: The objective has been evaluated at this point before.\n",
      "  warnings.warn(\"The objective has been evaluated \"\n"
     ]
    },
    {
     "name": "stdout",
     "output_type": "stream",
     "text": [
      "Fitting 5 folds for each of 1 candidates, totalling 5 fits\n",
      "[CV] END C=100, degree=7, epsilon=0.1, gamma=0.1, kernel=rbf; total time= 1.3min\n",
      "[CV] END C=100, degree=7, epsilon=0.1, gamma=0.1, kernel=rbf; total time= 1.4min\n",
      "[CV] END C=100, degree=7, epsilon=0.1, gamma=0.1, kernel=rbf; total time= 1.4min\n",
      "[CV] END C=100, degree=7, epsilon=0.1, gamma=0.1, kernel=rbf; total time= 1.4min\n",
      "[CV] END C=100, degree=7, epsilon=0.1, gamma=0.1, kernel=rbf; total time= 1.5min\n"
     ]
    },
    {
     "name": "stderr",
     "output_type": "stream",
     "text": [
      "/home/sylphrena/anaconda3/envs/CLASSE/lib/python3.9/site-packages/skopt/optimizer/optimizer.py:449: UserWarning: The objective has been evaluated at this point before.\n",
      "  warnings.warn(\"The objective has been evaluated \"\n"
     ]
    },
    {
     "name": "stdout",
     "output_type": "stream",
     "text": [
      "Fitting 5 folds for each of 1 candidates, totalling 5 fits\n",
      "[CV] END C=100, degree=7, epsilon=0.1, gamma=0.1, kernel=rbf; total time= 1.3min\n",
      "[CV] END C=100, degree=7, epsilon=0.1, gamma=0.1, kernel=rbf; total time= 1.4min\n",
      "[CV] END C=100, degree=7, epsilon=0.1, gamma=0.1, kernel=rbf; total time= 1.4min\n",
      "[CV] END C=100, degree=7, epsilon=0.1, gamma=0.1, kernel=rbf; total time= 1.4min\n",
      "[CV] END C=100, degree=7, epsilon=0.1, gamma=0.1, kernel=rbf; total time= 1.5min\n"
     ]
    },
    {
     "name": "stderr",
     "output_type": "stream",
     "text": [
      "/home/sylphrena/anaconda3/envs/CLASSE/lib/python3.9/site-packages/skopt/optimizer/optimizer.py:449: UserWarning: The objective has been evaluated at this point before.\n",
      "  warnings.warn(\"The objective has been evaluated \"\n"
     ]
    },
    {
     "name": "stdout",
     "output_type": "stream",
     "text": [
      "Fitting 5 folds for each of 1 candidates, totalling 5 fits\n",
      "[CV] END C=100, degree=7, epsilon=0.1, gamma=0.1, kernel=rbf; total time= 1.4min\n",
      "[CV] END C=100, degree=7, epsilon=0.1, gamma=0.1, kernel=rbf; total time= 1.4min\n",
      "[CV] END C=100, degree=7, epsilon=0.1, gamma=0.1, kernel=rbf; total time= 1.5min\n",
      "[CV] END C=100, degree=7, epsilon=0.1, gamma=0.1, kernel=rbf; total time= 1.5min\n",
      "[CV] END C=100, degree=7, epsilon=0.1, gamma=0.1, kernel=rbf; total time= 1.5min\n"
     ]
    },
    {
     "name": "stderr",
     "output_type": "stream",
     "text": [
      "/home/sylphrena/anaconda3/envs/CLASSE/lib/python3.9/site-packages/skopt/optimizer/optimizer.py:449: UserWarning: The objective has been evaluated at this point before.\n",
      "  warnings.warn(\"The objective has been evaluated \"\n"
     ]
    },
    {
     "name": "stdout",
     "output_type": "stream",
     "text": [
      "Fitting 5 folds for each of 1 candidates, totalling 5 fits\n",
      "[CV] END C=100, degree=7, epsilon=0.1, gamma=0.1, kernel=rbf; total time= 1.3min\n",
      "[CV] END C=100, degree=7, epsilon=0.1, gamma=0.1, kernel=rbf; total time= 1.4min\n",
      "[CV] END C=100, degree=7, epsilon=0.1, gamma=0.1, kernel=rbf; total time= 1.4min\n",
      "[CV] END C=100, degree=7, epsilon=0.1, gamma=0.1, kernel=rbf; total time= 1.4min\n",
      "[CV] END C=100, degree=7, epsilon=0.1, gamma=0.1, kernel=rbf; total time= 1.5min\n"
     ]
    },
    {
     "name": "stderr",
     "output_type": "stream",
     "text": [
      "/home/sylphrena/anaconda3/envs/CLASSE/lib/python3.9/site-packages/skopt/optimizer/optimizer.py:449: UserWarning: The objective has been evaluated at this point before.\n",
      "  warnings.warn(\"The objective has been evaluated \"\n"
     ]
    },
    {
     "name": "stdout",
     "output_type": "stream",
     "text": [
      "Fitting 5 folds for each of 1 candidates, totalling 5 fits\n",
      "[CV] END C=100, degree=7, epsilon=0.1, gamma=0.1, kernel=rbf; total time= 1.3min\n",
      "[CV] END C=100, degree=7, epsilon=0.1, gamma=0.1, kernel=rbf; total time= 1.4min\n",
      "[CV] END C=100, degree=7, epsilon=0.1, gamma=0.1, kernel=rbf; total time= 1.4min\n",
      "[CV] END C=100, degree=7, epsilon=0.1, gamma=0.1, kernel=rbf; total time= 1.4min\n",
      "[CV] END C=100, degree=7, epsilon=0.1, gamma=0.1, kernel=rbf; total time= 1.5min\n"
     ]
    },
    {
     "name": "stderr",
     "output_type": "stream",
     "text": [
      "/home/sylphrena/anaconda3/envs/CLASSE/lib/python3.9/site-packages/skopt/optimizer/optimizer.py:449: UserWarning: The objective has been evaluated at this point before.\n",
      "  warnings.warn(\"The objective has been evaluated \"\n"
     ]
    },
    {
     "name": "stdout",
     "output_type": "stream",
     "text": [
      "Fitting 5 folds for each of 1 candidates, totalling 5 fits\n",
      "[CV] END C=100, degree=7, epsilon=0.1, gamma=0.1, kernel=rbf; total time= 1.3min\n",
      "[CV] END C=100, degree=7, epsilon=0.1, gamma=0.1, kernel=rbf; total time= 1.4min\n",
      "[CV] END C=100, degree=7, epsilon=0.1, gamma=0.1, kernel=rbf; total time= 1.4min\n",
      "[CV] END C=100, degree=7, epsilon=0.1, gamma=0.1, kernel=rbf; total time= 1.4min\n",
      "[CV] END C=100, degree=7, epsilon=0.1, gamma=0.1, kernel=rbf; total time= 1.4min\n"
     ]
    },
    {
     "name": "stderr",
     "output_type": "stream",
     "text": [
      "/home/sylphrena/anaconda3/envs/CLASSE/lib/python3.9/site-packages/skopt/optimizer/optimizer.py:449: UserWarning: The objective has been evaluated at this point before.\n",
      "  warnings.warn(\"The objective has been evaluated \"\n"
     ]
    },
    {
     "name": "stdout",
     "output_type": "stream",
     "text": [
      "Fitting 5 folds for each of 1 candidates, totalling 5 fits\n",
      "[CV] END C=100, degree=7, epsilon=0.1, gamma=0.1, kernel=rbf; total time= 1.3min\n",
      "[CV] END C=100, degree=7, epsilon=0.1, gamma=0.1, kernel=rbf; total time= 1.4min\n",
      "[CV] END C=100, degree=7, epsilon=0.1, gamma=0.1, kernel=rbf; total time= 1.4min\n",
      "[CV] END C=100, degree=7, epsilon=0.1, gamma=0.1, kernel=rbf; total time= 1.4min\n",
      "[CV] END C=100, degree=7, epsilon=0.1, gamma=0.1, kernel=rbf; total time= 1.5min\n"
     ]
    },
    {
     "name": "stderr",
     "output_type": "stream",
     "text": [
      "/home/sylphrena/anaconda3/envs/CLASSE/lib/python3.9/site-packages/skopt/optimizer/optimizer.py:449: UserWarning: The objective has been evaluated at this point before.\n",
      "  warnings.warn(\"The objective has been evaluated \"\n"
     ]
    },
    {
     "name": "stdout",
     "output_type": "stream",
     "text": [
      "Fitting 5 folds for each of 1 candidates, totalling 5 fits\n",
      "[CV] END C=100, degree=7, epsilon=0.1, gamma=0.1, kernel=rbf; total time= 1.4min\n",
      "[CV] END C=100, degree=7, epsilon=0.1, gamma=0.1, kernel=rbf; total time= 1.4min\n",
      "[CV] END C=100, degree=7, epsilon=0.1, gamma=0.1, kernel=rbf; total time= 1.4min\n",
      "[CV] END C=100, degree=7, epsilon=0.1, gamma=0.1, kernel=rbf; total time= 1.4min\n",
      "[CV] END C=100, degree=7, epsilon=0.1, gamma=0.1, kernel=rbf; total time= 1.5min\n"
     ]
    },
    {
     "name": "stderr",
     "output_type": "stream",
     "text": [
      "/home/sylphrena/anaconda3/envs/CLASSE/lib/python3.9/site-packages/skopt/optimizer/optimizer.py:449: UserWarning: The objective has been evaluated at this point before.\n",
      "  warnings.warn(\"The objective has been evaluated \"\n"
     ]
    },
    {
     "name": "stdout",
     "output_type": "stream",
     "text": [
      "Fitting 5 folds for each of 1 candidates, totalling 5 fits\n",
      "[CV] END C=100, degree=7, epsilon=0.1, gamma=0.1, kernel=rbf; total time= 1.4min\n",
      "[CV] END C=100, degree=7, epsilon=0.1, gamma=0.1, kernel=rbf; total time= 1.4min\n",
      "[CV] END C=100, degree=7, epsilon=0.1, gamma=0.1, kernel=rbf; total time= 1.4min\n",
      "[CV] END C=100, degree=7, epsilon=0.1, gamma=0.1, kernel=rbf; total time= 1.5min\n",
      "[CV] END C=100, degree=7, epsilon=0.1, gamma=0.1, kernel=rbf; total time= 1.5min\n"
     ]
    },
    {
     "name": "stderr",
     "output_type": "stream",
     "text": [
      "/home/sylphrena/anaconda3/envs/CLASSE/lib/python3.9/site-packages/skopt/optimizer/optimizer.py:449: UserWarning: The objective has been evaluated at this point before.\n",
      "  warnings.warn(\"The objective has been evaluated \"\n"
     ]
    },
    {
     "name": "stdout",
     "output_type": "stream",
     "text": [
      "Fitting 5 folds for each of 1 candidates, totalling 5 fits\n",
      "[CV] END C=100, degree=7, epsilon=0.1, gamma=0.1, kernel=rbf; total time= 1.4min\n",
      "[CV] END C=100, degree=7, epsilon=0.1, gamma=0.1, kernel=rbf; total time= 1.4min\n",
      "[CV] END C=100, degree=7, epsilon=0.1, gamma=0.1, kernel=rbf; total time= 1.4min\n",
      "[CV] END C=100, degree=7, epsilon=0.1, gamma=0.1, kernel=rbf; total time= 1.4min\n",
      "[CV] END C=100, degree=7, epsilon=0.1, gamma=0.1, kernel=rbf; total time= 1.5min\n"
     ]
    },
    {
     "name": "stderr",
     "output_type": "stream",
     "text": [
      "/home/sylphrena/anaconda3/envs/CLASSE/lib/python3.9/site-packages/skopt/optimizer/optimizer.py:449: UserWarning: The objective has been evaluated at this point before.\n",
      "  warnings.warn(\"The objective has been evaluated \"\n"
     ]
    },
    {
     "name": "stdout",
     "output_type": "stream",
     "text": [
      "Fitting 5 folds for each of 1 candidates, totalling 5 fits\n",
      "[CV] END C=100, degree=7, epsilon=0.1, gamma=0.1, kernel=rbf; total time= 1.3min\n",
      "[CV] END C=100, degree=7, epsilon=0.1, gamma=0.1, kernel=rbf; total time= 1.4min\n",
      "[CV] END C=100, degree=7, epsilon=0.1, gamma=0.1, kernel=rbf; total time= 1.4min\n",
      "[CV] END C=100, degree=7, epsilon=0.1, gamma=0.1, kernel=rbf; total time= 1.4min\n",
      "[CV] END C=100, degree=7, epsilon=0.1, gamma=0.1, kernel=rbf; total time= 1.5min\n"
     ]
    },
    {
     "name": "stderr",
     "output_type": "stream",
     "text": [
      "/home/sylphrena/anaconda3/envs/CLASSE/lib/python3.9/site-packages/skopt/optimizer/optimizer.py:449: UserWarning: The objective has been evaluated at this point before.\n",
      "  warnings.warn(\"The objective has been evaluated \"\n"
     ]
    },
    {
     "name": "stdout",
     "output_type": "stream",
     "text": [
      "Fitting 5 folds for each of 1 candidates, totalling 5 fits\n",
      "[CV] END C=100, degree=7, epsilon=0.1, gamma=0.1, kernel=rbf; total time= 1.4min\n",
      "[CV] END C=100, degree=7, epsilon=0.1, gamma=0.1, kernel=rbf; total time= 1.4min\n",
      "[CV] END C=100, degree=7, epsilon=0.1, gamma=0.1, kernel=rbf; total time= 1.4min\n",
      "[CV] END C=100, degree=7, epsilon=0.1, gamma=0.1, kernel=rbf; total time= 1.5min\n",
      "[CV] END C=100, degree=7, epsilon=0.1, gamma=0.1, kernel=rbf; total time= 1.5min\n"
     ]
    },
    {
     "name": "stderr",
     "output_type": "stream",
     "text": [
      "/home/sylphrena/anaconda3/envs/CLASSE/lib/python3.9/site-packages/skopt/optimizer/optimizer.py:449: UserWarning: The objective has been evaluated at this point before.\n",
      "  warnings.warn(\"The objective has been evaluated \"\n"
     ]
    },
    {
     "name": "stdout",
     "output_type": "stream",
     "text": [
      "Fitting 5 folds for each of 1 candidates, totalling 5 fits\n",
      "[CV] END C=100, degree=7, epsilon=0.1, gamma=0.1, kernel=rbf; total time= 1.4min\n",
      "[CV] END C=100, degree=7, epsilon=0.1, gamma=0.1, kernel=rbf; total time= 1.4min\n",
      "[CV] END C=100, degree=7, epsilon=0.1, gamma=0.1, kernel=rbf; total time= 1.5min\n",
      "[CV] END C=100, degree=7, epsilon=0.1, gamma=0.1, kernel=rbf; total time= 1.5min\n",
      "[CV] END C=100, degree=7, epsilon=0.1, gamma=0.1, kernel=rbf; total time= 1.5min\n"
     ]
    },
    {
     "name": "stderr",
     "output_type": "stream",
     "text": [
      "/home/sylphrena/anaconda3/envs/CLASSE/lib/python3.9/site-packages/skopt/optimizer/optimizer.py:449: UserWarning: The objective has been evaluated at this point before.\n",
      "  warnings.warn(\"The objective has been evaluated \"\n"
     ]
    },
    {
     "name": "stdout",
     "output_type": "stream",
     "text": [
      "Fitting 5 folds for each of 1 candidates, totalling 5 fits\n",
      "[CV] END C=100, degree=7, epsilon=0.1, gamma=0.1, kernel=rbf; total time= 1.4min\n",
      "[CV] END C=100, degree=7, epsilon=0.1, gamma=0.1, kernel=rbf; total time= 1.4min\n",
      "[CV] END C=100, degree=7, epsilon=0.1, gamma=0.1, kernel=rbf; total time= 1.5min\n",
      "[CV] END C=100, degree=7, epsilon=0.1, gamma=0.1, kernel=rbf; total time= 1.5min\n",
      "[CV] END C=100, degree=7, epsilon=0.1, gamma=0.1, kernel=rbf; total time= 1.5min\n"
     ]
    },
    {
     "name": "stderr",
     "output_type": "stream",
     "text": [
      "/home/sylphrena/anaconda3/envs/CLASSE/lib/python3.9/site-packages/skopt/optimizer/optimizer.py:449: UserWarning: The objective has been evaluated at this point before.\n",
      "  warnings.warn(\"The objective has been evaluated \"\n"
     ]
    },
    {
     "name": "stdout",
     "output_type": "stream",
     "text": [
      "Fitting 5 folds for each of 1 candidates, totalling 5 fits\n",
      "[CV] END C=100, degree=7, epsilon=0.1, gamma=0.1, kernel=rbf; total time= 1.4min\n",
      "[CV] END C=100, degree=7, epsilon=0.1, gamma=0.1, kernel=rbf; total time= 1.4min\n",
      "[CV] END C=100, degree=7, epsilon=0.1, gamma=0.1, kernel=rbf; total time= 1.5min\n",
      "[CV] END C=100, degree=7, epsilon=0.1, gamma=0.1, kernel=rbf; total time= 1.5min\n",
      "[CV] END C=100, degree=7, epsilon=0.1, gamma=0.1, kernel=rbf; total time= 1.5min\n"
     ]
    },
    {
     "name": "stderr",
     "output_type": "stream",
     "text": [
      "/home/sylphrena/anaconda3/envs/CLASSE/lib/python3.9/site-packages/skopt/optimizer/optimizer.py:449: UserWarning: The objective has been evaluated at this point before.\n",
      "  warnings.warn(\"The objective has been evaluated \"\n"
     ]
    },
    {
     "name": "stdout",
     "output_type": "stream",
     "text": [
      "Fitting 5 folds for each of 1 candidates, totalling 5 fits\n",
      "[CV] END C=100, degree=7, epsilon=0.1, gamma=0.1, kernel=rbf; total time= 1.1min\n",
      "[CV] END C=100, degree=7, epsilon=0.1, gamma=0.1, kernel=rbf; total time= 1.2min\n",
      "[CV] END C=100, degree=7, epsilon=0.1, gamma=0.1, kernel=rbf; total time= 1.2min\n",
      "[CV] END C=100, degree=7, epsilon=0.1, gamma=0.1, kernel=rbf; total time= 1.2min\n",
      "[CV] END C=100, degree=7, epsilon=0.1, gamma=0.1, kernel=rbf; total time= 1.3min\n"
     ]
    },
    {
     "name": "stderr",
     "output_type": "stream",
     "text": [
      "/home/sylphrena/anaconda3/envs/CLASSE/lib/python3.9/site-packages/skopt/optimizer/optimizer.py:449: UserWarning: The objective has been evaluated at this point before.\n",
      "  warnings.warn(\"The objective has been evaluated \"\n"
     ]
    },
    {
     "name": "stdout",
     "output_type": "stream",
     "text": [
      "Fitting 5 folds for each of 1 candidates, totalling 5 fits\n",
      "[CV] END C=100, degree=7, epsilon=0.1, gamma=0.1, kernel=rbf; total time= 1.4min\n",
      "[CV] END C=100, degree=7, epsilon=0.1, gamma=0.1, kernel=rbf; total time= 1.5min\n",
      "[CV] END C=100, degree=7, epsilon=0.1, gamma=0.1, kernel=rbf; total time= 1.5min\n",
      "[CV] END C=100, degree=7, epsilon=0.1, gamma=0.1, kernel=rbf; total time= 1.5min\n",
      "[CV] END C=100, degree=7, epsilon=0.1, gamma=0.1, kernel=rbf; total time= 1.6min\n"
     ]
    },
    {
     "name": "stderr",
     "output_type": "stream",
     "text": [
      "/home/sylphrena/anaconda3/envs/CLASSE/lib/python3.9/site-packages/skopt/optimizer/optimizer.py:449: UserWarning: The objective has been evaluated at this point before.\n",
      "  warnings.warn(\"The objective has been evaluated \"\n"
     ]
    },
    {
     "name": "stdout",
     "output_type": "stream",
     "text": [
      "Fitting 5 folds for each of 1 candidates, totalling 5 fits\n",
      "[CV] END C=100, degree=7, epsilon=0.1, gamma=0.1, kernel=rbf; total time= 1.5min\n",
      "[CV] END C=100, degree=7, epsilon=0.1, gamma=0.1, kernel=rbf; total time= 1.5min\n",
      "[CV] END C=100, degree=7, epsilon=0.1, gamma=0.1, kernel=rbf; total time= 1.6min\n",
      "[CV] END C=100, degree=7, epsilon=0.1, gamma=0.1, kernel=rbf; total time= 1.6min\n",
      "[CV] END C=100, degree=7, epsilon=0.1, gamma=0.1, kernel=rbf; total time= 1.6min\n"
     ]
    },
    {
     "name": "stderr",
     "output_type": "stream",
     "text": [
      "/home/sylphrena/anaconda3/envs/CLASSE/lib/python3.9/site-packages/skopt/optimizer/optimizer.py:449: UserWarning: The objective has been evaluated at this point before.\n",
      "  warnings.warn(\"The objective has been evaluated \"\n"
     ]
    },
    {
     "name": "stdout",
     "output_type": "stream",
     "text": [
      "Fitting 5 folds for each of 1 candidates, totalling 5 fits\n",
      "[CV] END C=100, degree=7, epsilon=0.1, gamma=0.1, kernel=rbf; total time= 1.3min\n",
      "[CV] END C=100, degree=7, epsilon=0.1, gamma=0.1, kernel=rbf; total time= 1.4min\n",
      "[CV] END C=100, degree=7, epsilon=0.1, gamma=0.1, kernel=rbf; total time= 1.4min\n",
      "[CV] END C=100, degree=7, epsilon=0.1, gamma=0.1, kernel=rbf; total time= 1.4min\n",
      "[CV] END C=100, degree=7, epsilon=0.1, gamma=0.1, kernel=rbf; total time= 1.5min\n"
     ]
    },
    {
     "name": "stderr",
     "output_type": "stream",
     "text": [
      "/home/sylphrena/anaconda3/envs/CLASSE/lib/python3.9/site-packages/skopt/optimizer/optimizer.py:449: UserWarning: The objective has been evaluated at this point before.\n",
      "  warnings.warn(\"The objective has been evaluated \"\n"
     ]
    },
    {
     "name": "stdout",
     "output_type": "stream",
     "text": [
      "Fitting 5 folds for each of 1 candidates, totalling 5 fits\n",
      "[CV] END C=100, degree=7, epsilon=0.1, gamma=0.1, kernel=rbf; total time= 1.4min\n",
      "[CV] END C=100, degree=7, epsilon=0.1, gamma=0.1, kernel=rbf; total time= 1.4min\n",
      "[CV] END C=100, degree=7, epsilon=0.1, gamma=0.1, kernel=rbf; total time= 1.4min\n",
      "[CV] END C=100, degree=7, epsilon=0.1, gamma=0.1, kernel=rbf; total time= 1.4min\n",
      "[CV] END C=100, degree=7, epsilon=0.1, gamma=0.1, kernel=rbf; total time= 1.5min\n"
     ]
    },
    {
     "name": "stderr",
     "output_type": "stream",
     "text": [
      "/home/sylphrena/anaconda3/envs/CLASSE/lib/python3.9/site-packages/skopt/optimizer/optimizer.py:449: UserWarning: The objective has been evaluated at this point before.\n",
      "  warnings.warn(\"The objective has been evaluated \"\n"
     ]
    },
    {
     "name": "stdout",
     "output_type": "stream",
     "text": [
      "Fitting 5 folds for each of 1 candidates, totalling 5 fits\n",
      "[CV] END C=100, degree=7, epsilon=0.1, gamma=0.1, kernel=rbf; total time= 1.4min\n",
      "[CV] END C=100, degree=7, epsilon=0.1, gamma=0.1, kernel=rbf; total time= 1.4min\n",
      "[CV] END C=100, degree=7, epsilon=0.1, gamma=0.1, kernel=rbf; total time= 1.4min\n",
      "[CV] END C=100, degree=7, epsilon=0.1, gamma=0.1, kernel=rbf; total time= 1.5min\n",
      "[CV] END C=100, degree=7, epsilon=0.1, gamma=0.1, kernel=rbf; total time= 1.5min\n"
     ]
    },
    {
     "name": "stderr",
     "output_type": "stream",
     "text": [
      "/home/sylphrena/anaconda3/envs/CLASSE/lib/python3.9/site-packages/skopt/optimizer/optimizer.py:449: UserWarning: The objective has been evaluated at this point before.\n",
      "  warnings.warn(\"The objective has been evaluated \"\n"
     ]
    },
    {
     "name": "stdout",
     "output_type": "stream",
     "text": [
      "Fitting 5 folds for each of 1 candidates, totalling 5 fits\n",
      "[CV] END C=100, degree=7, epsilon=0.1, gamma=0.1, kernel=rbf; total time= 1.3min\n",
      "[CV] END C=100, degree=7, epsilon=0.1, gamma=0.1, kernel=rbf; total time= 1.4min\n",
      "[CV] END C=100, degree=7, epsilon=0.1, gamma=0.1, kernel=rbf; total time= 1.4min\n",
      "[CV] END C=100, degree=7, epsilon=0.1, gamma=0.1, kernel=rbf; total time= 1.4min\n",
      "[CV] END C=100, degree=7, epsilon=0.1, gamma=0.1, kernel=rbf; total time= 1.5min\n"
     ]
    },
    {
     "name": "stderr",
     "output_type": "stream",
     "text": [
      "/home/sylphrena/anaconda3/envs/CLASSE/lib/python3.9/site-packages/skopt/optimizer/optimizer.py:449: UserWarning: The objective has been evaluated at this point before.\n",
      "  warnings.warn(\"The objective has been evaluated \"\n"
     ]
    },
    {
     "name": "stdout",
     "output_type": "stream",
     "text": [
      "Fitting 5 folds for each of 1 candidates, totalling 5 fits\n",
      "[CV] END C=100, degree=7, epsilon=0.1, gamma=0.1, kernel=rbf; total time= 1.3min\n",
      "[CV] END C=100, degree=7, epsilon=0.1, gamma=0.1, kernel=rbf; total time= 1.4min\n",
      "[CV] END C=100, degree=7, epsilon=0.1, gamma=0.1, kernel=rbf; total time= 1.4min\n",
      "[CV] END C=100, degree=7, epsilon=0.1, gamma=0.1, kernel=rbf; total time= 1.4min\n",
      "[CV] END C=100, degree=7, epsilon=0.1, gamma=0.1, kernel=rbf; total time= 1.5min\n"
     ]
    },
    {
     "name": "stderr",
     "output_type": "stream",
     "text": [
      "/home/sylphrena/anaconda3/envs/CLASSE/lib/python3.9/site-packages/skopt/optimizer/optimizer.py:449: UserWarning: The objective has been evaluated at this point before.\n",
      "  warnings.warn(\"The objective has been evaluated \"\n"
     ]
    },
    {
     "name": "stdout",
     "output_type": "stream",
     "text": [
      "Fitting 5 folds for each of 1 candidates, totalling 5 fits\n",
      "[CV] END C=100, degree=7, epsilon=0.1, gamma=0.1, kernel=rbf; total time= 1.3min\n",
      "[CV] END C=100, degree=7, epsilon=0.1, gamma=0.1, kernel=rbf; total time= 1.4min\n",
      "[CV] END C=100, degree=7, epsilon=0.1, gamma=0.1, kernel=rbf; total time= 1.4min\n",
      "[CV] END C=100, degree=7, epsilon=0.1, gamma=0.1, kernel=rbf; total time= 1.4min\n",
      "[CV] END C=100, degree=7, epsilon=0.1, gamma=0.1, kernel=rbf; total time= 1.5min\n"
     ]
    },
    {
     "name": "stderr",
     "output_type": "stream",
     "text": [
      "/home/sylphrena/anaconda3/envs/CLASSE/lib/python3.9/site-packages/skopt/optimizer/optimizer.py:449: UserWarning: The objective has been evaluated at this point before.\n",
      "  warnings.warn(\"The objective has been evaluated \"\n"
     ]
    },
    {
     "name": "stdout",
     "output_type": "stream",
     "text": [
      "Fitting 5 folds for each of 1 candidates, totalling 5 fits\n",
      "[CV] END C=100, degree=7, epsilon=0.1, gamma=0.1, kernel=rbf; total time= 1.3min\n",
      "[CV] END C=100, degree=7, epsilon=0.1, gamma=0.1, kernel=rbf; total time= 1.4min\n",
      "[CV] END C=100, degree=7, epsilon=0.1, gamma=0.1, kernel=rbf; total time= 1.4min\n",
      "[CV] END C=100, degree=7, epsilon=0.1, gamma=0.1, kernel=rbf; total time= 1.4min\n",
      "[CV] END C=100, degree=7, epsilon=0.1, gamma=0.1, kernel=rbf; total time= 1.5min\n"
     ]
    },
    {
     "name": "stderr",
     "output_type": "stream",
     "text": [
      "/home/sylphrena/anaconda3/envs/CLASSE/lib/python3.9/site-packages/skopt/optimizer/optimizer.py:449: UserWarning: The objective has been evaluated at this point before.\n",
      "  warnings.warn(\"The objective has been evaluated \"\n"
     ]
    },
    {
     "name": "stdout",
     "output_type": "stream",
     "text": [
      "Fitting 5 folds for each of 1 candidates, totalling 5 fits\n",
      "[CV] END C=100, degree=7, epsilon=0.1, gamma=0.1, kernel=rbf; total time= 1.1min\n",
      "[CV] END C=100, degree=7, epsilon=0.1, gamma=0.1, kernel=rbf; total time= 1.1min\n",
      "[CV] END C=100, degree=7, epsilon=0.1, gamma=0.1, kernel=rbf; total time= 1.2min\n",
      "[CV] END C=100, degree=7, epsilon=0.1, gamma=0.1, kernel=rbf; total time= 1.2min\n",
      "[CV] END C=100, degree=7, epsilon=0.1, gamma=0.1, kernel=rbf; total time= 1.2min\n"
     ]
    },
    {
     "name": "stderr",
     "output_type": "stream",
     "text": [
      "/home/sylphrena/anaconda3/envs/CLASSE/lib/python3.9/site-packages/skopt/optimizer/optimizer.py:449: UserWarning: The objective has been evaluated at this point before.\n",
      "  warnings.warn(\"The objective has been evaluated \"\n"
     ]
    },
    {
     "name": "stdout",
     "output_type": "stream",
     "text": [
      "Fitting 5 folds for each of 1 candidates, totalling 5 fits\n",
      "[CV] END C=100, degree=7, epsilon=0.1, gamma=0.1, kernel=rbf; total time= 1.1min\n",
      "[CV] END C=100, degree=7, epsilon=0.1, gamma=0.1, kernel=rbf; total time= 1.2min\n",
      "[CV] END C=100, degree=7, epsilon=0.1, gamma=0.1, kernel=rbf; total time= 1.2min\n",
      "[CV] END C=100, degree=7, epsilon=0.1, gamma=0.1, kernel=rbf; total time= 1.2min\n",
      "[CV] END C=100, degree=7, epsilon=0.1, gamma=0.1, kernel=rbf; total time= 1.3min\n"
     ]
    },
    {
     "name": "stderr",
     "output_type": "stream",
     "text": [
      "/home/sylphrena/anaconda3/envs/CLASSE/lib/python3.9/site-packages/skopt/optimizer/optimizer.py:449: UserWarning: The objective has been evaluated at this point before.\n",
      "  warnings.warn(\"The objective has been evaluated \"\n"
     ]
    },
    {
     "name": "stdout",
     "output_type": "stream",
     "text": [
      "Fitting 5 folds for each of 1 candidates, totalling 5 fits\n"
     ]
    }
   ],
   "source": [
    "#start searching for the best nonlinear model with grid search\n",
    "\n",
    "#parameter grid\n",
    "parameters = {\n",
    "    \"kernel\": [\"poly\",\"rbf\",\"sigmoid\"],\n",
    "    \"degree\": np.arange(1,10,2),\n",
    "    \"C\": [1, 10, 100, 1000],\n",
    "    \"epsilon\": [0.001, 0.01, 0.1, 1, 10, 100],\n",
    "    \"gamma\": [0.001, 0.01, 0.1, 1]\n",
    "}\n",
    "\n",
    "#define model, do grid search\n",
    "reg = SVR(gamma = 'auto')\n",
    "model = BayesSearchCV(reg,                    #model\n",
    "                   search_spaces = parameters,   #hyperparameters\n",
    "                   scoring=\"neg_mean_squared_error\",        #metric for scoring\n",
    "                   return_train_score=False,\n",
    "                   #cv=10,\n",
    "                   n_jobs = -1,\n",
    "                   verbose = 2)                     #number of folds\n",
    "\n",
    "#fit the models\n",
    "model.fit(train_data,train_target)\n",
    "\n",
    "print(\"\\nTuned Hyperparameters :\", model.best_params_,\"\\nBest Estimator:\",model.best_estimator_)\n",
    "print(\"MSE :\",model.best_score_)"
   ]
  },
  {
   "cell_type": "code",
   "execution_count": 7,
   "metadata": {},
   "outputs": [
    {
     "name": "stdout",
     "output_type": "stream",
     "text": [
      "MSE: 578.9603091705712\n",
      "R2 : 0.20371675401724976\n"
     ]
    }
   ],
   "source": [
    "svr = SVR(kernel='rbf', C=1, epsilon=0.001, gamma=0.1)\n",
    "svr.fit(train_data, train_target)\n",
    "svr_pred = svr.predict(test_data)\n",
    "\n",
    "mse = mean_squared_error(test_target, svr_pred)\n",
    "r_squared = r2_score(test_target, svr_pred)\n",
    "\n",
    "print(\"MSE:\", mse)\n",
    "print(\"R2 :\", r_squared)"
   ]
  },
  {
   "cell_type": "code",
   "execution_count": null,
   "metadata": {},
   "outputs": [],
   "source": [
    "#start searching for the best linear model with grid search\n",
    "\n",
    "#parameter grid\n",
    "parameters = {\n",
    "    \"kernel\": [\"linear\"],\n",
    "    \"C\": [1, 10, 100, 1000],\n",
    "    \"epsilon\": [0.001, 0.01, 0.1, 1, 10, 100],\n",
    "    \"gamma\": [0.001, 0.01, 0.1, 1]\n",
    "}\n",
    "\n",
    "#define model, do grid search\n",
    "reg = SVR()\n",
    "model = GridSearchCV(reg,                    #model\n",
    "                   param_grid = parameters,   #hyperparameters\n",
    "                   scoring=\"neg_mean_squared_error\",        #metric for scoring\n",
    "                   return_train_score=False,\n",
    "                   #cv=10,\n",
    "                   n_jobs = -1,\n",
    "                   verbose = 0)\n",
    "\n",
    "#fit the models\n",
    "model.fit(train_data,train_target)\n",
    "\n",
    "print(\"\\nTuned Hyperparameters :\", model.best_params_,\"\\nBest Estimator:\",model.best_estimator_)\n",
    "print(\"MSE :\",model.best_score_)"
   ]
  },
  {
   "cell_type": "code",
   "execution_count": null,
   "metadata": {},
   "outputs": [],
   "source": [
    "svr = SVR(C=1, epsilon=10, gamma='auto', kernel='linear')\n",
    "svr.fit(train_data, train_target)\n",
    "svr_pred = svr.predict(test_data)\n",
    "\n",
    "mse = mean_squared_error(test_target, svr_pred)\n",
    "r_squared = r2_score(test_target, svr_pred)\n",
    "\n",
    "print(\"MSE:\", mse)\n",
    "print(\"R2 :\", r_squared)"
   ]
  },
  {
   "cell_type": "markdown",
   "metadata": {},
   "source": [
    "## Random Forest Regressor"
   ]
  },
  {
   "cell_type": "code",
   "execution_count": null,
   "metadata": {},
   "outputs": [],
   "source": [
    "parameters = {\"n_estimators\": [100, 200, 500],\n",
    "                   \"max_depth\": [None, 2, 3, 5],\n",
    "                   \"min_samples_split\": [2, 5, 10],\n",
    "                   \"min_samples_leaf\": [1, 2, 5]}\n",
    "\n",
    "#define model, do grid search\n",
    "reg = RandomForestRegressor()\n",
    "model = GridSearchCV(reg,                    #model\n",
    "                   param_grid = parameters,   #hyperparameters\n",
    "                   scoring=\"neg_mean_squared_error\",        #metric for scoring\n",
    "                   return_train_score=False,\n",
    "                   #cv=10,\n",
    "                   n_jobs = -1,\n",
    "                   verbose = 0)                     #number of folds\n",
    "\n",
    "#fit the models\n",
    "model.fit(reg_train_data,reg_train_target)\n",
    "\n",
    "print(\"\\nTuned Hyperparameters :\", model.best_params_,\"\\nBest Estimator:\",model.best_estimator_)\n",
    "print(\"MSE :\",model.best_score_)"
   ]
  },
  {
   "cell_type": "code",
   "execution_count": null,
   "metadata": {},
   "outputs": [],
   "source": [
    "rfr = RandomForestRegressor() #not using grid result b/c I don't want to overfit. We get almost identical results with n_estimators = default (100)\n",
    "rfr.fit(reg_train_data, reg_train_target)\n",
    "rfr_pred = rfr.predict(reg_test_data)\n",
    "\n",
    "mse = mean_squared_error(reg_test_target, rfr_pred)\n",
    "r_squared = r2_score(reg_test_target, rfr_pred)\n",
    "\n",
    "print(\"MSE:\", mse)\n",
    "print(\"R2 :\", r_squared)"
   ]
  },
  {
   "cell_type": "markdown",
   "metadata": {},
   "source": [
    "## Superlearner"
   ]
  },
  {
   "cell_type": "code",
   "execution_count": null,
   "metadata": {},
   "outputs": [],
   "source": [
    "# create a list of base-models\n",
    "def get_models():\n",
    "\tmodels = list()\n",
    "\tmodels.append(LinearRegression())\n",
    "\tmodels.append(ElasticNet())\n",
    "\tmodels.append(SVR(C=1, epsilon=10, gamma='auto', kernel='linear'))\n",
    "\tmodels.append(DecisionTreeRegressor())\n",
    "\tmodels.append(KNeighborsRegressor())\n",
    "\tmodels.append(AdaBoostRegressor())\n",
    "\tmodels.append(BaggingRegressor())\n",
    "\tmodels.append(RandomForestRegressor())\n",
    "\tmodels.append(ExtraTreesRegressor())\n",
    "\treturn models"
   ]
  },
  {
   "cell_type": "code",
   "execution_count": null,
   "metadata": {},
   "outputs": [],
   "source": [
    "def get_super_learner(X):\n",
    "\tensemble = SuperLearner(scorer=r2_score, folds=10, shuffle=True, sample_size=len(X))\n",
    "\t# add base models\n",
    "\tmodels = get_models()\n",
    "\tensemble.add(models)\n",
    "\t# add the meta model\n",
    "\tensemble.add_meta(LinearRegression())\n",
    "\n",
    "\treturn ensemble\n",
    "ensemble = get_super_learner(train_data)"
   ]
  },
  {
   "cell_type": "code",
   "execution_count": null,
   "metadata": {},
   "outputs": [],
   "source": [
    "warnings.filterwarnings('ignore') #got tired of non-converging erros\n",
    "\n",
    "#fit the super learner\n",
    "ensemble.fit(train_data.values,train_target.values)\n",
    "#summarize base learners\n",
    "print(ensemble.data)\n",
    "\n",
    "train_pred = ensemble.predict(train_data)\n",
    "test_pred = ensemble.predict(test_data)\n",
    "\n",
    "#obtain scores for the model\n",
    "training_r2 = r2_score(train_target,train_pred)\n",
    "test_r2 = r2_score(test_target,test_pred)\n",
    "\n",
    "training_mse = mean_squared_error(train_target,train_pred)\n",
    "test_mse = mean_squared_error(test_target,test_pred)\n",
    "\n",
    "print(\"\\nTraining R2\",training_r2,\"\\nCV R2\",test_r2)\n",
    "\n",
    "print(\"\\nTraining MSE\",training_mse,\"\\nCV MSE\",test_mse)"
   ]
  },
  {
   "cell_type": "code",
   "execution_count": null,
   "metadata": {},
   "outputs": [],
   "source": [
    "with plt.rc_context({'xtick.color':'white', 'ytick.color':'white','axes.titlecolor':'white','figure.facecolor':'#1e1e1e','text.color':'white'}):\n",
    "    x = ['adaboost', 'dt', 'bag', 'elastic', 'extr', 'kn', 'linear','rfr', 'svm']\n",
    "    energy = [78, 83, 89, 59, 91, 66, 59, 90, 58]\n",
    "\n",
    "    x_pos = [i for i, _ in enumerate(x)]\n",
    "\n",
    "    plt.bar(x_pos, energy, color='green')\n",
    "    plt.xlabel(\"Model\",c='white')\n",
    "    plt.ylabel(\"R2 Score\",c='white')\n",
    "    plt.title(\"Regression Model Scores\")\n",
    "\n",
    "    plt.xticks(x_pos, x)\n",
    "\n",
    "    plt.savefig('../data/model.png')"
   ]
  },
  {
   "cell_type": "code",
   "execution_count": null,
   "metadata": {},
   "outputs": [],
   "source": [
    "dill.dump_session('../data/latest-run.db') #this can dump a python session so I can resume later, after restarts and such"
   ]
  }
 ],
 "metadata": {
  "kernelspec": {
   "display_name": "Python 3.9.7 ('CLASSE')",
   "language": "python",
   "name": "python3"
  },
  "language_info": {
   "codemirror_mode": {
    "name": "ipython",
    "version": 3
   },
   "file_extension": ".py",
   "mimetype": "text/x-python",
   "name": "python",
   "nbconvert_exporter": "python",
   "pygments_lexer": "ipython3",
   "version": "3.9.7"
  },
  "orig_nbformat": 4,
  "vscode": {
   "interpreter": {
    "hash": "8cd1206b64939dd3f6b0a0731e141469e9fe64d6063519119675fbaf8ff2b829"
   }
  }
 },
 "nbformat": 4,
 "nbformat_minor": 2
}
