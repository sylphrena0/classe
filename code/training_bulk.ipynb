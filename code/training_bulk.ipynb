{
 "cells": [
  {
   "cell_type": "markdown",
   "metadata": {},
   "source": [
    "# **Superconductivity Regression Notebook**\n",
    "Trains models to predict critical temperatures based on features found with \"*../code/get_featurizers.ipynb*\". Imports data from \"*../data/supercon_features.csv*\", which is produced in *get_featurizers.ipynb*. The orginal data is from the supercon database. This notebook is to produce results in a graphical format, in bulk\n",
    "\n",
    "*Author: Kirk Kleinsasser*"
   ]
  },
  {
   "cell_type": "code",
   "execution_count": 1,
   "metadata": {},
   "outputs": [
    {
     "data": {
      "application/javascript": "IPython.notebook.set_autosave_interval(300000)"
     },
     "metadata": {},
     "output_type": "display_data"
    },
    {
     "name": "stdout",
     "output_type": "stream",
     "text": [
      "Autosaving every 300 seconds\n"
     ]
    }
   ],
   "source": [
    "import dill\n",
    "#dill.load_session('../data/latest-run.db') #this can load a saved python session so I don't need to rerun computationally expensive cells\n",
    "%autosave 300 \n",
    "#autosaves code every five minutes"
   ]
  },
  {
   "cell_type": "code",
   "execution_count": 2,
   "metadata": {},
   "outputs": [],
   "source": [
    "#TODO: Do SVR optimization. Redo extratrees optimzation with just n_est. Try RFR more. Try Superlearner more?\n",
    "\n",
    "#TODO: maybe do comparision of params vs scores\n",
    "#physics-informed ML \n",
    "#lolopy - uncertainty, at least for RFR\n",
    "#citrine informatics \n",
    "#\n",
    "\n",
    "#calculated data in materials project is for idiv samples, aflow (27 compositions, can try if I get time), \n",
    "#next meeting - go thru next steps, if calculated datasets is too much\n",
    "#finish uncertainty stuff\n",
    "#compare lolopy/forestci/mapie, do into details --> not in previous papers\n",
    "\n",
    "#spend more time on lolopy if it doesn't work\n",
    "\n",
    "#start document explaining steps in more detail on optimization choices and such, latex"
   ]
  },
  {
   "cell_type": "markdown",
   "metadata": {},
   "source": [
    "## Import Libraries / Define Import Data Function"
   ]
  },
  {
   "cell_type": "code",
   "execution_count": 3,
   "metadata": {},
   "outputs": [
    {
     "name": "stderr",
     "output_type": "stream",
     "text": [
      "[MLENS] backend: threading\n"
     ]
    }
   ],
   "source": [
    "#general imports:\n",
    "import warnings #to suppress grid search warnings\n",
    "import numpy as np \n",
    "import pandas as pd\n",
    "import matplotlib.pyplot as plt\n",
    "import seaborn as sns #heatmaps\n",
    "import forestci as fci #error for RFR\n",
    "\n",
    "#regression models:\n",
    "from sklearn.neighbors import KNeighborsRegressor\n",
    "from sklearn.tree import DecisionTreeRegressor\n",
    "from sklearn.ensemble import AdaBoostRegressor, BaggingRegressor, ExtraTreesRegressor, RandomForestRegressor\n",
    "from sklearn.linear_model import LinearRegression, LogisticRegression, Ridge, Lasso, ElasticNet, SGDRegressor, BayesianRidge\n",
    "from sklearn.svm import SVR\n",
    "\n",
    "#various ML tools:\n",
    "from sklearn.pipeline import make_pipeline, Pipeline\n",
    "from sklearn.preprocessing import LabelEncoder, OneHotEncoder, StandardScaler\n",
    "from sklearn.model_selection import train_test_split, GridSearchCV, KFold, cross_val_predict, cross_val_score\n",
    "from sklearn.metrics import r2_score, mean_absolute_error, mean_squared_error, max_error\n",
    "\n",
    "#imports custom libraries (shared functions)\n",
    "import dependancies.shared_functions as sfn \n",
    "from dependancies.superlearner import get_superlearner as superlearner"
   ]
  },
  {
   "cell_type": "markdown",
   "metadata": {},
   "source": [
    "## Results"
   ]
  },
  {
   "cell_type": "code",
   "execution_count": null,
   "metadata": {},
   "outputs": [],
   "source": [
    "sfn.import_data(replace_inf=True)\n",
    "models =   [[\"Support Vector Machines (Linear)\", SVR, {}, False, 0, 0],\n",
    "            [\"Random Forest Regression\", RandomForestRegressor, {}, True, 1, 0],\n",
    "            [\"Support Vector Machines (Poly)\", SVR, {}, False, 0, 1],\n",
    "            [\"KNeighbors Regression\", KNeighborsRegressor, {}, False, 1, 1],\n",
    "            [\"Decision Tree Regression\", DecisionTreeRegressor, {}, False, 0, 2],\n",
    "            [\"Extra Trees Regression\", ExtraTreesRegressor, {}, False, 1, 2],\n",
    "            [\"Elastic Net Regression\", ElasticNet, {}, False, 0, 3],\n",
    "            [\"Bayesian Regression\", BayesianRidge, {}, False, 1, 3]]\n",
    "sfn.evaluate(models, title=\"Prediction vs. Actual Value (CV) - Unoptimized\", filename=\"results_unoptimized.png\") #call evaluation function"
   ]
  },
  {
   "cell_type": "code",
   "execution_count": 6,
   "metadata": {},
   "outputs": [],
   "source": [
    "sfn.import_data(replace_inf=True)\n",
    "models  =  [[\"Support Vector Machines\", SVR, {'C':1, 'epsilon':10, 'gamma':'auto', 'kernel':'linear'}, False, 0, 0],\n",
    "            [\"Random Forest Regression\", RandomForestRegressor, {}, True, 1, 0],\n",
    "            [\"Superlearner\", superlearner, {'X': sfn.train_data}, False, 0, 1],\n",
    "            [\"KNeighbors Regression\", KNeighborsRegressor, {'metric':'manhattan', 'n_jobs':-1, 'n_neighbors':5}, False, 1, 1],\n",
    "            [\"Decision Tree Regression\", DecisionTreeRegressor, {'criterion':'poisson', 'max_features':0.5, 'random_state':43}, False, 0, 2],\n",
    "            [\"Extra Trees Regression\", ExtraTreesRegressor, {}, False, 1, 2],\n",
    "            [\"Elastic Net Regression\", ElasticNet, {'alpha':1e-05, 'l1_ratio':0.0}, False, 0, 3],\n",
    "            [\"Bayesian Regression\", BayesianRidge, {}, False, 1, 3]]\n",
    "            \n",
    "sfn.evaluate(models, title=\"Prediction vs. Actual Value (CV) - Optimized\", filename=\"results_optimized.png\", error=True, forestci=False, method=\"plus\")"
   ]
  },
  {
   "cell_type": "code",
   "execution_count": null,
   "metadata": {},
   "outputs": [],
   "source": []
  }
 ],
 "metadata": {
  "kernelspec": {
   "display_name": "Python 3.9.7 ('CLASSE')",
   "language": "python",
   "name": "python3"
  },
  "language_info": {
   "codemirror_mode": {
    "name": "ipython",
    "version": 3
   },
   "file_extension": ".py",
   "mimetype": "text/x-python",
   "name": "python",
   "nbconvert_exporter": "python",
   "pygments_lexer": "ipython3",
   "version": "3.9.7"
  },
  "orig_nbformat": 4,
  "vscode": {
   "interpreter": {
    "hash": "8cd1206b64939dd3f6b0a0731e141469e9fe64d6063519119675fbaf8ff2b829"
   }
  }
 },
 "nbformat": 4,
 "nbformat_minor": 2
}
