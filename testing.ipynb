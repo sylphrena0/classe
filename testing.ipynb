{
 "cells": [
  {
   "cell_type": "code",
   "execution_count": 2,
   "metadata": {},
   "outputs": [],
   "source": [
    "import matplotlib.pyplot as plt\n",
    "import numpy as np\n",
    "import pandas as pd\n",
    "\n",
    "# from sklearn.pipeline import FeatureUnion, Pipeline\n",
    "# from sklearn.base import TransformerMixin, BaseEstimator\n",
    "# from sklearn.linear_model import LinearRegression\n",
    "# from sklearn.ensemble import RandomForestRegressor\n",
    "# from sklearn.svm import SVR, LinearSVR\n",
    "# from sklearn.decomposition import PCA, NMF\n",
    "# from sklearn.feature_selection import SelectKBest, chi2\n",
    "# from sklearn.preprocessing import StandardScaler, MinMaxScaler\n",
    "# from sklearn.metrics import mean_squared_error\n",
    "# from sklearn.model_selection import RepeatedKFold, cross_val_score, cross_val_predict, train_test_split, GridSearchCV, RandomizedSearchCV\n",
    "# from scipy.stats import randint as sp_randint"
   ]
  },
  {
   "cell_type": "code",
   "execution_count": 3,
   "metadata": {},
   "outputs": [
    {
     "data": {
      "text/html": [
       "<div>\n",
       "<style scoped>\n",
       "    .dataframe tbody tr th:only-of-type {\n",
       "        vertical-align: middle;\n",
       "    }\n",
       "\n",
       "    .dataframe tbody tr th {\n",
       "        vertical-align: top;\n",
       "    }\n",
       "\n",
       "    .dataframe thead th {\n",
       "        text-align: right;\n",
       "    }\n",
       "</style>\n",
       "<table border=\"1\" class=\"dataframe\">\n",
       "  <thead>\n",
       "    <tr style=\"text-align: right;\">\n",
       "      <th></th>\n",
       "      <th>composition</th>\n",
       "      <th>Tc</th>\n",
       "    </tr>\n",
       "  </thead>\n",
       "  <tbody>\n",
       "    <tr>\n",
       "      <th>0</th>\n",
       "      <td>Ba0.4K0.6Fe2As2</td>\n",
       "      <td>31.20</td>\n",
       "    </tr>\n",
       "    <tr>\n",
       "      <th>1</th>\n",
       "      <td>Ca0.4Ba1.25La1.25Cu3O6.98</td>\n",
       "      <td>40.10</td>\n",
       "    </tr>\n",
       "    <tr>\n",
       "      <th>2</th>\n",
       "      <td>Mo0.39Ru0.61</td>\n",
       "      <td>6.90</td>\n",
       "    </tr>\n",
       "    <tr>\n",
       "      <th>3</th>\n",
       "      <td>Tm4Os6Sn19</td>\n",
       "      <td>1.10</td>\n",
       "    </tr>\n",
       "    <tr>\n",
       "      <th>4</th>\n",
       "      <td>Nd1Bi0.99Pb0.01S2F0.3O0.7</td>\n",
       "      <td>4.85</td>\n",
       "    </tr>\n",
       "  </tbody>\n",
       "</table>\n",
       "</div>"
      ],
      "text/plain": [
       "                 composition     Tc\n",
       "0            Ba0.4K0.6Fe2As2  31.20\n",
       "1  Ca0.4Ba1.25La1.25Cu3O6.98  40.10\n",
       "2               Mo0.39Ru0.61   6.90\n",
       "3                 Tm4Os6Sn19   1.10\n",
       "4  Nd1Bi0.99Pb0.01S2F0.3O0.7   4.85"
      ]
     },
     "execution_count": 3,
     "metadata": {},
     "output_type": "execute_result"
    }
   ],
   "source": [
    "from matminer.datasets import get_available_datasets, load_dataset, get_all_dataset_info\n",
    "\n",
    "# load supercon databse and metadata\n",
    "# print(get_all_dataset_info(\"superconductivity2018\")) # metadata\n",
    "data = pd.DataFrame(load_dataset('superconductivity2018'))\n",
    "data.head()\n",
    "\n",
    "#features will be made with matminer, target is Tc"
   ]
  },
  {
   "cell_type": "code",
   "execution_count": 4,
   "metadata": {},
   "outputs": [],
   "source": [
    "from matminer.featurizers.structure import DensityFeatures\n",
    "from matminer.featurizers.conversions import StrToComposition\n",
    "from figrecipes import PlotlyFig\n",
    "\n",
    "# densityf = DensityFeatures()\n",
    "# densityf.feature_labels()\n",
    "\n",
    "# df = densityf.featurize_dataframe(df, \"structure\")\n",
    "# df.head()\n",
    "\n",
    "# stc = StrToComposition()\n",
    "# df = stc.featurize_dataframe(data, \"formula\", pbar=False)\n",
    "\n",
    "# with plt.rc_context({'xtick.color':'white', 'ytick.color':'white','axes.titlecolor':'white','axes.labelcolor':'white','figure.facecolor':'#1e1e1e'}):\n",
    "    # plt.bar(data['composition'], data['Tc'], color = (0.3,0.1,0.4,0.6), label='Alone')"
   ]
  },
  {
   "cell_type": "code",
   "execution_count": 8,
   "metadata": {},
   "outputs": [
    {
     "name": "stderr",
     "output_type": "stream",
     "text": [
      "ElectronAffinity: 100%|██████████| 16414/16414 [00:22<00:00, 723.30it/s] \n"
     ]
    },
    {
     "ename": "TypeError",
     "evalue": "__init__() missing 3 required positional arguments: 'data_source', 'features', and 'stats'",
     "output_type": "error",
     "traceback": [
      "\u001b[0;31m---------------------------------------------------------------------------\u001b[0m",
      "\u001b[0;31mTypeError\u001b[0m                                 Traceback (most recent call last)",
      "\u001b[0;32m/tmp/ipykernel_2374/599918456.py\u001b[0m in \u001b[0;36m<module>\u001b[0;34m\u001b[0m\n\u001b[1;32m      5\u001b[0m \u001b[0mea_feat_data\u001b[0m \u001b[0;34m=\u001b[0m \u001b[0mea_feat\u001b[0m\u001b[0;34m.\u001b[0m\u001b[0mfeaturize_dataframe\u001b[0m\u001b[0;34m(\u001b[0m\u001b[0mdata\u001b[0m\u001b[0;34m,\u001b[0m\u001b[0;34m'composition'\u001b[0m\u001b[0;34m,\u001b[0m \u001b[0mignore_errors\u001b[0m\u001b[0;34m=\u001b[0m\u001b[0;32mTrue\u001b[0m\u001b[0;34m)\u001b[0m\u001b[0;34m\u001b[0m\u001b[0;34m\u001b[0m\u001b[0m\n\u001b[1;32m      6\u001b[0m \u001b[0;34m\u001b[0m\u001b[0m\n\u001b[0;32m----> 7\u001b[0;31m \u001b[0mea_prop\u001b[0m \u001b[0;34m=\u001b[0m \u001b[0mElementProperty\u001b[0m\u001b[0;34m(\u001b[0m\u001b[0;34m)\u001b[0m\u001b[0;34m\u001b[0m\u001b[0;34m\u001b[0m\u001b[0m\n\u001b[0m\u001b[1;32m      8\u001b[0m \u001b[0mea_prop_data\u001b[0m \u001b[0;34m=\u001b[0m \u001b[0mea_feat\u001b[0m\u001b[0;34m.\u001b[0m\u001b[0mfeaturize_dataframe\u001b[0m\u001b[0;34m(\u001b[0m\u001b[0mdata\u001b[0m\u001b[0;34m,\u001b[0m\u001b[0;34m'composition'\u001b[0m\u001b[0;34m,\u001b[0m \u001b[0mignore_errors\u001b[0m\u001b[0;34m=\u001b[0m\u001b[0;32mTrue\u001b[0m\u001b[0;34m)\u001b[0m\u001b[0;34m\u001b[0m\u001b[0;34m\u001b[0m\u001b[0m\n\u001b[1;32m      9\u001b[0m \u001b[0;34m\u001b[0m\u001b[0m\n",
      "\u001b[0;31mTypeError\u001b[0m: __init__() missing 3 required positional arguments: 'data_source', 'features', and 'stats'"
     ]
    }
   ],
   "source": [
    "from matminer.featurizers.composition import ElectronAffinity, ElementProperty, TMetalFraction, Stoichiometry, BandCenter, OxidationStates, IonProperty, ElectronegativityDiff, AtomicOrbitals, ValenceOrbital, AtomicPackingEfficiency, CohesiveEnergy, CohesiveEnergyMP\n",
    "#WARNING - this will take a while to run!\n",
    "\n",
    "ea_feat = ElectronAffinity()\n",
    "ea_feat_data = ea_feat.featurize_dataframe(data,'composition', ignore_errors=True)\n",
    "\n",
    "ea_prop = ElementProperty()\n",
    "ea_prop_data = ea_feat.featurize_dataframe(data,'composition', ignore_errors=True)\n",
    "\n",
    "ea_aff = ElectronAffinity()\n",
    "ea_aff_data = ea_aff.featurize_dataframe(data, 'composition', ignore_errors=True)\n",
    "\n",
    "el_prop = ElementProperty()\n",
    "el_prop_data = el_prop.featurize_dataframe(data, 'composition', ignore_errors=True)\n",
    "\n",
    "met_frac = TMetalFraction()\n",
    "met_frac_data = met_frac.featurize_dataframe(data, 'composition', ignore_errors=True)\n",
    "\n",
    "stoich = Stoichiometry()\n",
    "stoich_data = stoich.featurize_dataframe(data, 'composition', ignore_errors=True)\n",
    "\n",
    "band_cneter = BandCenter()\n",
    "band_cneter_data = band_cneter.featurize_dataframe(data, 'composition', ignore_errors=True)\n",
    "\n",
    "ox_states = OxidationStates()\n",
    "ox_states_data = ox_states.featurize_dataframe(data, 'composition', ignore_errors=True)\n",
    "\n",
    "ion_prop = IonProperty()\n",
    "ion_prop_data = ion_prop.featurize_dataframe(data, 'composition', ignore_errors=True)\n",
    "\n",
    "en_diff = ElectronegativityDiff()\n",
    "en_diff_data = en_diff.featurize_dataframe(data, 'composition', ignore_errors=True)\n",
    "\n",
    "atom_orbitals = AtomicOrbitals()\n",
    "atom_orbitals_data = atom_orbitals.featurize_dataframe(data, 'composition', ignore_errors=True)\n",
    "\n",
    "val_orbitals = ValenceOrbital()\n",
    "val_orbitals_data = val_orbitals.featurize_dataframe(data, 'composition', ignore_errors=True)\n",
    "\n",
    "atom_pack_eff = AtomicPackingEfficiency()\n",
    "atom_pack_eff_data = atom_pack_eff.featurize_dataframe(data, 'composition', ignore_errors=True)\n",
    "\n",
    "cohesive_en = CohesiveEnergy()\n",
    "cohesive_en_data = cohesive_en.featurize_dataframe(data, 'composition', ignore_errors=True)\n",
    "\n",
    "cohesive_en_mp = CohesiveEnergyMP()\n",
    "cohesive_en_mp_data = cohesive_en_mp.featurize_dataframe(data, 'composition', ignore_errors=True)\n"
   ]
  },
  {
   "cell_type": "code",
   "execution_count": null,
   "metadata": {},
   "outputs": [],
   "source": []
  }
 ],
 "metadata": {
  "kernelspec": {
   "display_name": "Python 3.9.7 ('CLASSE')",
   "language": "python",
   "name": "python3"
  },
  "language_info": {
   "codemirror_mode": {
    "name": "ipython",
    "version": 3
   },
   "file_extension": ".py",
   "mimetype": "text/x-python",
   "name": "python",
   "nbconvert_exporter": "python",
   "pygments_lexer": "ipython3",
   "version": "3.9.7"
  },
  "orig_nbformat": 4,
  "vscode": {
   "interpreter": {
    "hash": "8cd1206b64939dd3f6b0a0731e141469e9fe64d6063519119675fbaf8ff2b829"
   }
  }
 },
 "nbformat": 4,
 "nbformat_minor": 2
}
