{
 "cells": [
  {
   "cell_type": "code",
   "execution_count": 1,
   "metadata": {},
   "outputs": [
    {
     "name": "stderr",
     "output_type": "stream",
     "text": [
      "/home/sylphrena/anaconda3/envs/CLASSE/lib/python3.9/site-packages/tqdm/auto.py:22: TqdmWarning: IProgress not found. Please update jupyter and ipywidgets. See https://ipywidgets.readthedocs.io/en/stable/user_install.html\n",
      "  from .autonotebook import tqdm as notebook_tqdm\n"
     ]
    }
   ],
   "source": [
    "import dill\n",
    "dill.load_session('latest-run.db') #this can load a saved python session so I don't need to rerun computationally expensive cells"
   ]
  },
  {
   "cell_type": "code",
   "execution_count": 5,
   "metadata": {},
   "outputs": [
    {
     "data": {
      "application/javascript": "IPython.notebook.set_autosave_interval(300000)"
     },
     "metadata": {},
     "output_type": "display_data"
    },
    {
     "name": "stdout",
     "output_type": "stream",
     "text": [
      "Autosaving every 300 seconds\n"
     ]
    },
    {
     "name": "stderr",
     "output_type": "stream",
     "text": [
      "StrToComposition: 100%|██████████| 16414/16414 [00:03<00:00, 4822.36it/s]\n"
     ]
    },
    {
     "data": {
      "text/html": [
       "<div>\n",
       "<style scoped>\n",
       "    .dataframe tbody tr th:only-of-type {\n",
       "        vertical-align: middle;\n",
       "    }\n",
       "\n",
       "    .dataframe tbody tr th {\n",
       "        vertical-align: top;\n",
       "    }\n",
       "\n",
       "    .dataframe thead th {\n",
       "        text-align: right;\n",
       "    }\n",
       "</style>\n",
       "<table border=\"1\" class=\"dataframe\">\n",
       "  <thead>\n",
       "    <tr style=\"text-align: right;\">\n",
       "      <th></th>\n",
       "      <th>name</th>\n",
       "      <th>Tc</th>\n",
       "      <th>composition</th>\n",
       "    </tr>\n",
       "  </thead>\n",
       "  <tbody>\n",
       "    <tr>\n",
       "      <th>0</th>\n",
       "      <td>Ba0.4K0.6Fe2As2</td>\n",
       "      <td>31.20</td>\n",
       "      <td>(Ba, K, Fe, As)</td>\n",
       "    </tr>\n",
       "    <tr>\n",
       "      <th>1</th>\n",
       "      <td>Ca0.4Ba1.25La1.25Cu3O6.98</td>\n",
       "      <td>40.10</td>\n",
       "      <td>(Ca, Ba, La, Cu, O)</td>\n",
       "    </tr>\n",
       "    <tr>\n",
       "      <th>2</th>\n",
       "      <td>Mo0.39Ru0.61</td>\n",
       "      <td>6.90</td>\n",
       "      <td>(Mo, Ru)</td>\n",
       "    </tr>\n",
       "    <tr>\n",
       "      <th>3</th>\n",
       "      <td>Tm4Os6Sn19</td>\n",
       "      <td>1.10</td>\n",
       "      <td>(Tm, Os, Sn)</td>\n",
       "    </tr>\n",
       "    <tr>\n",
       "      <th>4</th>\n",
       "      <td>Nd1Bi0.99Pb0.01S2F0.3O0.7</td>\n",
       "      <td>4.85</td>\n",
       "      <td>(Nd, Bi, Pb, S, F, O)</td>\n",
       "    </tr>\n",
       "  </tbody>\n",
       "</table>\n",
       "</div>"
      ],
      "text/plain": [
       "                        name     Tc            composition\n",
       "0            Ba0.4K0.6Fe2As2  31.20        (Ba, K, Fe, As)\n",
       "1  Ca0.4Ba1.25La1.25Cu3O6.98  40.10    (Ca, Ba, La, Cu, O)\n",
       "2               Mo0.39Ru0.61   6.90               (Mo, Ru)\n",
       "3                 Tm4Os6Sn19   1.10           (Tm, Os, Sn)\n",
       "4  Nd1Bi0.99Pb0.01S2F0.3O0.7   4.85  (Nd, Bi, Pb, S, F, O)"
      ]
     },
     "execution_count": 5,
     "metadata": {},
     "output_type": "execute_result"
    }
   ],
   "source": [
    "%autosave 300 \n",
    "#autosaves code every five minutes\n",
    "import matplotlib.pyplot as plt\n",
    "import numpy as np\n",
    "import pandas as pd\n",
    "from matminer.datasets import get_available_datasets, load_dataset, get_all_dataset_info\n",
    "from matminer.featurizers.conversions import StrToComposition\n",
    "\n",
    "# load supercon databse and metadata\n",
    "# print(get_all_dataset_info(\"superconductivity2018\")) # metadata\n",
    "data = pd.DataFrame(pd.read_csv('supercon.csv'))\n",
    "data.head()\n",
    "\n",
    "stc = StrToComposition()\n",
    "composition = stc.featurize_dataframe(data,'name', ignore_errors=True)\n",
    "\n",
    "#features will be made with matminer, target is Tc\n",
    "composition.head()"
   ]
  },
  {
   "cell_type": "markdown",
   "metadata": {},
   "source": [
    "### Attempting to create feature manually with matminer featurizers\n",
    "Code doesn't fully run yet, I'm just testing."
   ]
  },
  {
   "cell_type": "code",
   "execution_count": 6,
   "metadata": {},
   "outputs": [
    {
     "name": "stderr",
     "output_type": "stream",
     "text": [
      "ElementProperty: 100%|██████████| 16414/16414 [00:10<00:00, 1560.02it/s]\n",
      "ElementProperty: 100%|██████████| 16414/16414 [00:10<00:00, 1561.95it/s]\n",
      "ElectronAffinity: 100%|██████████| 16414/16414 [00:08<00:00, 1884.20it/s]\n",
      "TMetalFraction: 100%|██████████| 16414/16414 [00:08<00:00, 2031.16it/s]\n",
      "\n",
      "Stoichiometry: 100%|██████████| 16414/16414 [00:08<00:00, 1964.51it/s]\n",
      "\n",
      "BandCenter: 100%|██████████| 16414/16414 [08:49<00:00, 30.98it/s]\n",
      "OxidationStates: 100%|██████████| 16414/16414 [00:11<00:00, 1490.95it/s]\n",
      "IonProperty: 100%|██████████| 16414/16414 [02:37<00:00, 104.06it/s]\n"
     ]
    }
   ],
   "source": [
    "from matminer.featurizers.composition import ElectronAffinity, ElementProperty, TMetalFraction, Stoichiometry, BandCenter, OxidationStates, IonProperty, ElectronegativityDiff, AtomicOrbitals, ValenceOrbital, AtomicPackingEfficiency, CohesiveEnergy, CohesiveEnergyMP\n",
    "#WARNING - this will take a while (>2 hours) to run!\n",
    "\n",
    "#these are all the Magpie features. You can choose fewer if you want.\n",
    "features = ['Number', 'MendeleevNumber', 'AtomicWeight', 'MeltingT', \n",
    "            'Column', 'Row', 'CovalentRadius', 'Electronegativity', \n",
    "            'NsValence', 'NpValence', 'NdValence', 'NfValence', 'NValence', \n",
    "            'NsUnfilled', 'NpUnfilled', 'NdUnfilled', 'NfUnfilled', 'NUnfilled', \n",
    "            'GSvolume_pa', 'GSbandgap', 'GSmagmom', 'SpaceGroupNumber']\n",
    "\n",
    "ea_prop = ElementProperty(data_source='magpie', features=features, stats=['mean']) # can add 'minimum', 'maximum', 'range', 'avg_dev', 'mode' to stats\n",
    "ea_prop_data = ea_prop.featurize_dataframe(composition, 'composition', ignore_errors=True)\n",
    "\n",
    "el_prop = ElementProperty(data_source='magpie', features=features, stats=['mean'])\n",
    "el_prop_data = el_prop.featurize_dataframe(composition, 'composition', ignore_errors=True)\n",
    "\n",
    "ea_aff = ElectronAffinity()\n",
    "ea_aff_data = ea_aff.featurize_dataframe(composition, 'composition', ignore_errors=True)\n",
    "\n",
    "met_frac = TMetalFraction()\n",
    "met_frac_data = met_frac.featurize_dataframe(composition, 'composition', ignore_errors=True)\n",
    "\n",
    "stoich = Stoichiometry()\n",
    "stoich_data = stoich.featurize_dataframe(composition, 'composition', ignore_errors=True)\n",
    "\n",
    "band_center = BandCenter()\n",
    "band_center_data = band_center.featurize_dataframe(composition, 'composition', ignore_errors=True)\n",
    "\n",
    "ox_states = OxidationStates()\n",
    "ox_states_data = ox_states.featurize_dataframe(composition, 'composition', ignore_errors=True)\n",
    "\n",
    "ion_prop = IonProperty()\n",
    "ion_prop_data = ion_prop.featurize_dataframe(composition, 'composition', ignore_errors=True)\n",
    "\n",
    "en_diff = ElectronegativityDiff()\n",
    "en_diff_data = en_diff.featurize_dataframe(composition, 'composition', ignore_errors=True)\n",
    "\n",
    "atom_orbitals = AtomicOrbitals()\n",
    "atom_orbitals_data = atom_orbitals.featurize_dataframe(composition, 'composition', ignore_errors=True)\n",
    "\n",
    "val_orbitals = ValenceOrbital()\n",
    "val_orbitals_data = val_orbitals.featurize_dataframe(composition, 'composition', ignore_errors=True)\n",
    "\n",
    "atom_pack_eff = AtomicPackingEfficiency()\n",
    "atom_pack_eff_data = atom_pack_eff.featurize_dataframe(composition, 'composition', ignore_errors=True)\n",
    "\n",
    "cohesive_en = CohesiveEnergy()\n",
    "cohesive_en_data = cohesive_en.featurize_dataframe(composition, 'composition', ignore_errors=True)\n",
    "\n",
    "cohesive_en_mp = CohesiveEnergyMP()\n",
    "cohesive_en_mp_data = cohesive_en_mp.featurize_dataframe(composition, 'composition', ignore_errors=True)\n"
   ]
  },
  {
   "cell_type": "code",
   "execution_count": null,
   "metadata": {},
   "outputs": [],
   "source": [
    "all_feat = ea_aff_data\n",
    "for featurizer in [el_prop_data, met_frac_data, stoich_data, band_center_data, ox_states_data, ion_prop_data, en_diff_data, atom_orbitals_data, val_orbitals_data, atom_pack_eff_data, cohesive_en_data, cohesive_en_mp_data]:\n",
    "    all_feat = pd.merge(all_feat, featurizer, how=\"left\")\n",
    "all_feat.to_csv('supercon_feat.csv')"
   ]
  },
  {
   "cell_type": "markdown",
   "metadata": {},
   "source": [
    "## Initial Testing of Algorithms"
   ]
  },
  {
   "cell_type": "code",
   "execution_count": null,
   "metadata": {},
   "outputs": [],
   "source": [
    "# from automatminer import MatPipe #automatminer uses a import that was removed in scikit-learn  0.24. I am using version 0.23\n",
    "# I can't get this to work :(\n",
    "\n",
    "from sklearn.model_selection import train_test_split\n",
    "\n",
    "# test train split, with shuffle and random state for reproducibility \n",
    "train_data, test_data, train_target, test_target = train_test_split(data['composition'], data['Tc'], test_size=0.15, random_state=43, shuffle=True)\n",
    "\n"
   ]
  },
  {
   "cell_type": "code",
   "execution_count": null,
   "metadata": {},
   "outputs": [],
   "source": [
    "dill.dump_session('latest-run.db') #this can dump a python session so I can resume later, after restarts and such"
   ]
  }
 ],
 "metadata": {
  "kernelspec": {
   "display_name": "Python 3.9.7 ('CLASSE')",
   "language": "python",
   "name": "python3"
  },
  "language_info": {
   "codemirror_mode": {
    "name": "ipython",
    "version": 3
   },
   "file_extension": ".py",
   "mimetype": "text/x-python",
   "name": "python",
   "nbconvert_exporter": "python",
   "pygments_lexer": "ipython3",
   "version": "3.9.7"
  },
  "orig_nbformat": 4,
  "vscode": {
   "interpreter": {
    "hash": "8cd1206b64939dd3f6b0a0731e141469e9fe64d6063519119675fbaf8ff2b829"
   }
  }
 },
 "nbformat": 4,
 "nbformat_minor": 2
}
